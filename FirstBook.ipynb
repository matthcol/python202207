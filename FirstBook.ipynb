{
 "cells": [
  {
   "cell_type": "markdown",
   "id": "7979e74c",
   "metadata": {},
   "source": [
    "# Premiers pas en Python\n",
    "Formation pour apprendre python, la POO en python et quelques libraiires de Data Science"
   ]
  },
  {
   "cell_type": "code",
   "execution_count": 94,
   "id": "87ccb8db-34f2-4212-abe7-87836ac18d14",
   "metadata": {},
   "outputs": [],
   "source": [
    "import numpy as np\n",
    "import math\n",
    "import statistics as stat"
   ]
  },
  {
   "cell_type": "code",
   "execution_count": 4,
   "id": "4c54ad7b",
   "metadata": {},
   "outputs": [
    {
     "name": "stdout",
     "output_type": "stream",
     "text": [
      "Hello Antoine Matthias\n",
      "Hello, Antoine, Matthias\n",
      "Hello Antoine Matthias\n"
     ]
    }
   ],
   "source": [
    "print(\"Hello\", \"Antoine\", \"Matthias\")\n",
    "print(\"Hello\", \"Antoine\", \"Matthias\", sep=\", \")\n",
    "print(\"Hello\", \"Antoine\", end=\" \")\n",
    "print(\"Matthias\")"
   ]
  },
  {
   "cell_type": "code",
   "execution_count": 22,
   "id": "2f875f80",
   "metadata": {},
   "outputs": [],
   "source": [
    "data = [1, 4, 8, 15, 23 ]"
   ]
  },
  {
   "cell_type": "code",
   "execution_count": 23,
   "id": "96f72c75-09a7-4f57-b94f-b655612d06c9",
   "metadata": {},
   "outputs": [
    {
     "data": {
      "text/plain": [
       "[1, 4, 8, 15, 23, 1, 4, 8, 15, 23]"
      ]
     },
     "execution_count": 23,
     "metadata": {},
     "output_type": "execute_result"
    }
   ],
   "source": [
    "data * 2"
   ]
  },
  {
   "cell_type": "code",
   "execution_count": 24,
   "id": "90081538-6a01-4d7c-b3d8-97b6192e3188",
   "metadata": {},
   "outputs": [
    {
     "data": {
      "text/plain": [
       "'PauPau'"
      ]
     },
     "execution_count": 24,
     "metadata": {},
     "output_type": "execute_result"
    }
   ],
   "source": [
    "'Pau' * 2"
   ]
  },
  {
   "cell_type": "code",
   "execution_count": 25,
   "id": "1fe2fc52-99d4-42d6-9223-5674a1b0bfba",
   "metadata": {},
   "outputs": [
    {
     "data": {
      "text/plain": [
       "[1, 4, 8, 15, 23, 3, 5]"
      ]
     },
     "execution_count": 25,
     "metadata": {},
     "output_type": "execute_result"
    }
   ],
   "source": [
    "data + [3, 5]"
   ]
  },
  {
   "cell_type": "code",
   "execution_count": 26,
   "id": "a74526d7-7ee6-44e4-ae4c-2def1e706fb0",
   "metadata": {},
   "outputs": [
    {
     "data": {
      "text/plain": [
       "'PauToulouse'"
      ]
     },
     "execution_count": 26,
     "metadata": {},
     "output_type": "execute_result"
    }
   ],
   "source": [
    "'Pau' + 'Toulouse'"
   ]
  },
  {
   "cell_type": "code",
   "execution_count": 27,
   "id": "9a83a503-c1f0-4ea4-99e3-d307c05f5067",
   "metadata": {},
   "outputs": [
    {
     "data": {
      "text/plain": [
       "True"
      ]
     },
     "execution_count": 27,
     "metadata": {},
     "output_type": "execute_result"
    }
   ],
   "source": [
    "4 in data"
   ]
  },
  {
   "cell_type": "code",
   "execution_count": 28,
   "id": "843a936f-1003-41c6-b16a-ccef99d4d41b",
   "metadata": {},
   "outputs": [
    {
     "data": {
      "text/plain": [
       "False"
      ]
     },
     "execution_count": 28,
     "metadata": {},
     "output_type": "execute_result"
    }
   ],
   "source": [
    "4 not in data"
   ]
  },
  {
   "cell_type": "code",
   "execution_count": 33,
   "id": "4eb96c82-fb92-40cc-8139-9b80b9c6c9cc",
   "metadata": {},
   "outputs": [],
   "source": [
    "data2 = [1, 4, 8, 15, 23]\n",
    "data3 = data # partage de reference"
   ]
  },
  {
   "cell_type": "code",
   "execution_count": 32,
   "id": "a1623c0a-fbc4-4864-80a2-172ff036ee27",
   "metadata": {},
   "outputs": [
    {
     "name": "stdout",
     "output_type": "stream",
     "text": [
      "True\n",
      "True\n",
      "False\n",
      "True\n"
     ]
    }
   ],
   "source": [
    "print(data2 == data)\n",
    "print(data3 == data)\n",
    "print(data2 is data)\n",
    "print(data3 is data)"
   ]
  },
  {
   "cell_type": "code",
   "execution_count": 35,
   "id": "35fb1b19-26b1-4470-a623-5484b199ba0c",
   "metadata": {},
   "outputs": [
    {
     "name": "stdout",
     "output_type": "stream",
     "text": [
      "[1, 4, 8, 15, 23, 55]\n",
      "[1, 4, 8, 15, 23, 55]\n"
     ]
    }
   ],
   "source": [
    "data.append(55)\n",
    "print(data)\n",
    "print(data3)"
   ]
  },
  {
   "cell_type": "code",
   "execution_count": 36,
   "id": "cc95758b-76ca-4627-bce6-3407c545e3de",
   "metadata": {},
   "outputs": [
    {
     "name": "stdout",
     "output_type": "stream",
     "text": [
      "[0, 1]\n",
      "[1, 4, 8, 15, 23, 55]\n"
     ]
    }
   ],
   "source": [
    "data = [0, 1]\n",
    "print(data)\n",
    "print(data3)\n"
   ]
  },
  {
   "cell_type": "code",
   "execution_count": 39,
   "id": "bd309a0d-4213-4a8a-9111-8b9fecb50e36",
   "metadata": {},
   "outputs": [
    {
     "data": {
      "text/plain": [
       "2"
      ]
     },
     "execution_count": 39,
     "metadata": {},
     "output_type": "execute_result"
    }
   ],
   "source": [
    "14 % 4 # modulo"
   ]
  },
  {
   "cell_type": "code",
   "execution_count": 40,
   "id": "4b9b8741-4397-498a-b6be-8abc73069f7a",
   "metadata": {},
   "outputs": [
    {
     "data": {
      "text/plain": [
       "3.5"
      ]
     },
     "execution_count": 40,
     "metadata": {},
     "output_type": "execute_result"
    }
   ],
   "source": [
    "14 / 4"
   ]
  },
  {
   "cell_type": "code",
   "execution_count": 41,
   "id": "e61c8cd9-552c-4be2-9bfe-8a879932d598",
   "metadata": {},
   "outputs": [
    {
     "data": {
      "text/plain": [
       "3"
      ]
     },
     "execution_count": 41,
     "metadata": {},
     "output_type": "execute_result"
    }
   ],
   "source": [
    "14 // 4"
   ]
  },
  {
   "cell_type": "code",
   "execution_count": 42,
   "id": "f8204271-6b0a-4b48-88d6-00f2f9f1d4b1",
   "metadata": {},
   "outputs": [
    {
     "data": {
      "text/plain": [
       "1073741824"
      ]
     },
     "execution_count": 42,
     "metadata": {},
     "output_type": "execute_result"
    }
   ],
   "source": [
    "2**30"
   ]
  },
  {
   "cell_type": "markdown",
   "id": "dd004489-a152-42b9-a0c9-e518701b93dc",
   "metadata": {},
   "source": [
    "## Exemple Numpy"
   ]
  },
  {
   "cell_type": "code",
   "execution_count": 46,
   "id": "51f9bf7d-ea75-46f8-908d-f9215b7d2537",
   "metadata": {},
   "outputs": [
    {
     "data": {
      "text/plain": [
       "array([ 1,  4,  8, 15, 23])"
      ]
     },
     "execution_count": 46,
     "metadata": {},
     "output_type": "execute_result"
    }
   ],
   "source": [
    "v = np.array(data2)\n",
    "v"
   ]
  },
  {
   "cell_type": "code",
   "execution_count": 47,
   "id": "d4154c0d-a45f-4e57-a121-14b762e6a8a5",
   "metadata": {},
   "outputs": [
    {
     "data": {
      "text/plain": [
       "array([ 2,  8, 16, 30, 46])"
      ]
     },
     "execution_count": 47,
     "metadata": {},
     "output_type": "execute_result"
    }
   ],
   "source": [
    "v * 2"
   ]
  },
  {
   "cell_type": "code",
   "execution_count": 48,
   "id": "fa0bab27-5d77-4571-9635-2b1fe1945b27",
   "metadata": {},
   "outputs": [
    {
     "data": {
      "text/plain": [
       "array([  1,  16,  64, 225, 529])"
      ]
     },
     "execution_count": 48,
     "metadata": {},
     "output_type": "execute_result"
    }
   ],
   "source": [
    "v * v"
   ]
  },
  {
   "cell_type": "code",
   "execution_count": 51,
   "id": "e8a00310-5b9d-4c86-bae9-cee996d47155",
   "metadata": {},
   "outputs": [
    {
     "data": {
      "text/plain": [
       "array([[ 1],\n",
       "       [ 4],\n",
       "       [ 8],\n",
       "       [15],\n",
       "       [23]])"
      ]
     },
     "execution_count": 51,
     "metadata": {},
     "output_type": "execute_result"
    }
   ],
   "source": [
    "m = v.reshape((5,1))\n",
    "m"
   ]
  },
  {
   "cell_type": "code",
   "execution_count": 53,
   "id": "0065ca7a-3614-49a0-ad68-4f25038b38fe",
   "metadata": {},
   "outputs": [
    {
     "data": {
      "text/plain": [
       "array([835])"
      ]
     },
     "execution_count": 53,
     "metadata": {},
     "output_type": "execute_result"
    }
   ],
   "source": [
    "v @ m"
   ]
  },
  {
   "cell_type": "code",
   "execution_count": 59,
   "id": "8a91e638-0e11-429d-99b7-27bc6e4404e7",
   "metadata": {},
   "outputs": [
    {
     "data": {
      "text/plain": [
       "array([[  1,   4,   8,  15,  23],\n",
       "       [  4,  16,  32,  60,  92],\n",
       "       [  8,  32,  64, 120, 184],\n",
       "       [ 15,  60, 120, 225, 345],\n",
       "       [ 23,  92, 184, 345, 529]])"
      ]
     },
     "execution_count": 59,
     "metadata": {},
     "output_type": "execute_result"
    }
   ],
   "source": [
    "m2 = m @ m.T\n",
    "m2"
   ]
  },
  {
   "cell_type": "code",
   "execution_count": 55,
   "id": "bd56ac69-5b54-4064-8f7d-29b4d0d9f593",
   "metadata": {},
   "outputs": [
    {
     "data": {
      "text/plain": [
       "(5, 1)"
      ]
     },
     "execution_count": 55,
     "metadata": {},
     "output_type": "execute_result"
    }
   ],
   "source": [
    "m.shape"
   ]
  },
  {
   "cell_type": "code",
   "execution_count": 56,
   "id": "9b55ab71-a149-4b40-9617-0412a6ca46e6",
   "metadata": {},
   "outputs": [
    {
     "data": {
      "text/plain": [
       "(5,)"
      ]
     },
     "execution_count": 56,
     "metadata": {},
     "output_type": "execute_result"
    }
   ],
   "source": [
    "v.shape"
   ]
  },
  {
   "cell_type": "code",
   "execution_count": 60,
   "id": "db78d848-25e3-4425-8228-d879fd882969",
   "metadata": {},
   "outputs": [
    {
     "data": {
      "text/plain": [
       "(5, 5)"
      ]
     },
     "execution_count": 60,
     "metadata": {},
     "output_type": "execute_result"
    }
   ],
   "source": [
    "m2.shape"
   ]
  },
  {
   "cell_type": "code",
   "execution_count": 61,
   "id": "8738c974-6dd6-4312-b517-aa7641e54922",
   "metadata": {},
   "outputs": [
    {
     "data": {
      "text/plain": [
       "  C_CONTIGUOUS : True\n",
       "  F_CONTIGUOUS : False\n",
       "  OWNDATA : True\n",
       "  WRITEABLE : True\n",
       "  ALIGNED : True\n",
       "  WRITEBACKIFCOPY : False\n",
       "  UPDATEIFCOPY : False"
      ]
     },
     "execution_count": 61,
     "metadata": {},
     "output_type": "execute_result"
    }
   ],
   "source": [
    "m2.flags"
   ]
  },
  {
   "cell_type": "code",
   "execution_count": 70,
   "id": "13ae3fea-cb2c-43e9-b36e-f0c7a7ae9805",
   "metadata": {},
   "outputs": [
    {
     "data": {
      "text/plain": [
       "  C_CONTIGUOUS : False\n",
       "  F_CONTIGUOUS : True\n",
       "  OWNDATA : False\n",
       "  WRITEABLE : True\n",
       "  ALIGNED : True\n",
       "  WRITEBACKIFCOPY : False\n",
       "  UPDATEIFCOPY : False"
      ]
     },
     "execution_count": 70,
     "metadata": {},
     "output_type": "execute_result"
    }
   ],
   "source": [
    "# transposed matrix shares data with original matrix\n",
    "tm2 = m2.T\n",
    "tm2.flags"
   ]
  },
  {
   "cell_type": "code",
   "execution_count": 64,
   "id": "69258d7c-f04d-4acf-9a1a-804e1c6c2fd2",
   "metadata": {},
   "outputs": [
    {
     "data": {
      "text/plain": [
       "120"
      ]
     },
     "execution_count": 64,
     "metadata": {},
     "output_type": "execute_result"
    }
   ],
   "source": [
    "tm2[2,3]"
   ]
  },
  {
   "cell_type": "code",
   "execution_count": 65,
   "id": "e12d4c23-d3e2-4b09-a874-d779696ef6db",
   "metadata": {},
   "outputs": [
    {
     "ename": "AttributeError",
     "evalue": "attribute 'T' of 'numpy.ndarray' objects is not writable",
     "output_type": "error",
     "traceback": [
      "\u001b[1;31m---------------------------------------------------------------------------\u001b[0m",
      "\u001b[1;31mAttributeError\u001b[0m                            Traceback (most recent call last)",
      "Input \u001b[1;32mIn [65]\u001b[0m, in \u001b[0;36m<cell line: 1>\u001b[1;34m()\u001b[0m\n\u001b[1;32m----> 1\u001b[0m m2\u001b[38;5;241m.\u001b[39mT \u001b[38;5;241m=\u001b[39m np\u001b[38;5;241m.\u001b[39marray([\u001b[38;5;241m3\u001b[39m])\n",
      "\u001b[1;31mAttributeError\u001b[0m: attribute 'T' of 'numpy.ndarray' objects is not writable"
     ]
    }
   ],
   "source": [
    "m2.T = np.array([3])"
   ]
  },
  {
   "cell_type": "code",
   "execution_count": 66,
   "id": "6ca631d9-9939-4e2d-8ec9-bc57c824b93d",
   "metadata": {},
   "outputs": [],
   "source": [
    "m2.T[2,3] = 888"
   ]
  },
  {
   "cell_type": "code",
   "execution_count": 67,
   "id": "90228d67-767c-49d3-843f-fe18e3123aba",
   "metadata": {},
   "outputs": [
    {
     "data": {
      "text/plain": [
       "array([[  1,   4,   8,  15,  23],\n",
       "       [  4,  16,  32,  60,  92],\n",
       "       [  8,  32,  64, 888, 184],\n",
       "       [ 15,  60, 120, 225, 345],\n",
       "       [ 23,  92, 184, 345, 529]])"
      ]
     },
     "execution_count": 67,
     "metadata": {},
     "output_type": "execute_result"
    }
   ],
   "source": [
    "m2.T"
   ]
  },
  {
   "cell_type": "code",
   "execution_count": 69,
   "id": "7fa089a6-598f-41d2-a777-f3f2d883f572",
   "metadata": {},
   "outputs": [
    {
     "data": {
      "text/plain": [
       "array([[  1,   4,   8,  15,  23],\n",
       "       [  4,  16,  32,  60,  92],\n",
       "       [  8,  32,  64, 888, 184],\n",
       "       [ 15,  60, 120, 225, 345],\n",
       "       [ 23,  92, 184, 345, 529]])"
      ]
     },
     "execution_count": 69,
     "metadata": {},
     "output_type": "execute_result"
    }
   ],
   "source": [
    "tm2"
   ]
  },
  {
   "cell_type": "code",
   "execution_count": 68,
   "id": "8d96a056-6c58-4c6b-9b6c-f5649fe8f0f8",
   "metadata": {},
   "outputs": [
    {
     "data": {
      "text/plain": [
       "array([[  1,   4,   8,  15,  23],\n",
       "       [  4,  16,  32,  60,  92],\n",
       "       [  8,  32,  64, 120, 184],\n",
       "       [ 15,  60, 888, 225, 345],\n",
       "       [ 23,  92, 184, 345, 529]])"
      ]
     },
     "execution_count": 68,
     "metadata": {},
     "output_type": "execute_result"
    }
   ],
   "source": [
    "m2"
   ]
  },
  {
   "cell_type": "markdown",
   "id": "b5fdb787-3e9a-4f11-95fe-3443e42a9554",
   "metadata": {},
   "source": [
    "## basic datas"
   ]
  },
  {
   "cell_type": "code",
   "execution_count": 72,
   "id": "a4eddfd9-aaf5-46f6-997d-d8861d6f4db0",
   "metadata": {},
   "outputs": [
    {
     "name": "stdout",
     "output_type": "stream",
     "text": [
      "<class 'int'>\n",
      "<class 'float'>\n"
     ]
    }
   ],
   "source": [
    "print(type(12)) # int (no limit)\n",
    "print(type(12.3)) # float"
   ]
  },
  {
   "cell_type": "code",
   "execution_count": 73,
   "id": "ceddcad8-3ed6-43e3-9fab-31d4a6772f38",
   "metadata": {},
   "outputs": [
    {
     "data": {
      "text/plain": [
       "1111111111111111111111111111111111111111111111111111111111111111111111111111111111111111111111111111111111111111111111111111111111111111111111111111115"
      ]
     },
     "execution_count": 73,
     "metadata": {},
     "output_type": "execute_result"
    }
   ],
   "source": [
    "x = 1111111111111111111111111111111111111111111111111111111111111111111111111111111111111111111111111111111111111111111111111111111111111111111111111111114\n",
    "x + 1"
   ]
  },
  {
   "cell_type": "code",
   "execution_count": 77,
   "id": "705b0d84-2623-4447-8bc1-29644678cba4",
   "metadata": {},
   "outputs": [
    {
     "name": "stdout",
     "output_type": "stream",
     "text": [
      "1e+308\n",
      "inf\n"
     ]
    }
   ],
   "source": [
    "# floats : IEEE754\n",
    "x=1E308\n",
    "print(x)\n",
    "print(x*2) # inf"
   ]
  },
  {
   "cell_type": "code",
   "execution_count": 85,
   "id": "ea9a7965-a72a-4282-b2df-20549875b956",
   "metadata": {},
   "outputs": [
    {
     "name": "stdout",
     "output_type": "stream",
     "text": [
      "nan\n"
     ]
    },
    {
     "data": {
      "text/plain": [
       "nan"
      ]
     },
     "execution_count": 85,
     "metadata": {},
     "output_type": "execute_result"
    }
   ],
   "source": [
    "nv = float('nan')\n",
    "print(nv)\n",
    "nv + 3\n",
    "nv"
   ]
  },
  {
   "cell_type": "code",
   "execution_count": 87,
   "id": "bb3e724c-07e6-48cd-9dc2-de24195fa033",
   "metadata": {},
   "outputs": [
    {
     "data": {
      "text/plain": [
       "[1, 4, nan, 7]"
      ]
     },
     "execution_count": 87,
     "metadata": {},
     "output_type": "execute_result"
    }
   ],
   "source": [
    "dataWithNan = [ 1, 4, nv, 7]\n",
    "dataWithNan"
   ]
  },
  {
   "cell_type": "code",
   "execution_count": 96,
   "id": "cc5b7fae-1d81-4f1e-b4b9-35d6591290a7",
   "metadata": {},
   "outputs": [
    {
     "name": "stdout",
     "output_type": "stream",
     "text": [
      "4\n",
      "nan\n",
      "1\n",
      "7\n",
      "nan\n"
     ]
    }
   ],
   "source": [
    "# some stats with list of values containing NaN\n",
    "# builtin functions : len, sum, min, max\n",
    "# module statistics : mean, ...\n",
    "print(len(dataWithNan))\n",
    "print(sum(dataWithNan))\n",
    "print(min(dataWithNan))\n",
    "print(max(dataWithNan))\n",
    "print(stat.mean(dataWithNan))\n"
   ]
  },
  {
   "cell_type": "code",
   "execution_count": 97,
   "id": "fc2f30a4-dcf6-402e-be76-377d648755da",
   "metadata": {},
   "outputs": [
    {
     "data": {
      "text/plain": [
       "array([ 1.,  4., nan,  7.])"
      ]
     },
     "execution_count": 97,
     "metadata": {},
     "output_type": "execute_result"
    }
   ],
   "source": [
    "vDataWithNan = np.array(dataWithNan)\n",
    "vDataWithNan"
   ]
  },
  {
   "cell_type": "code",
   "execution_count": 98,
   "id": "39f0ecc2-9795-4a8f-9662-c587c3af34d2",
   "metadata": {},
   "outputs": [
    {
     "data": {
      "text/plain": [
       "dtype('float64')"
      ]
     },
     "execution_count": 98,
     "metadata": {},
     "output_type": "execute_result"
    }
   ],
   "source": [
    "vDataWithNan.dtype"
   ]
  },
  {
   "cell_type": "code",
   "execution_count": 100,
   "id": "f3822cf9-a86e-439c-a480-816f1ceb0404",
   "metadata": {},
   "outputs": [
    {
     "name": "stdout",
     "output_type": "stream",
     "text": [
      "4\n",
      "nan\n",
      "nan\n",
      "nan\n",
      "nan\n"
     ]
    }
   ],
   "source": [
    "print(len(vDataWithNan))\n",
    "print(np.sum(vDataWithNan))\n",
    "print(np.min(vDataWithNan))\n",
    "print(np.max(vDataWithNan))\n",
    "print(np.mean(vDataWithNan))"
   ]
  },
  {
   "cell_type": "code",
   "execution_count": 101,
   "id": "02df301f-c469-4729-908b-fbfdf16391ff",
   "metadata": {},
   "outputs": [
    {
     "name": "stdout",
     "output_type": "stream",
     "text": [
      "4\n",
      "12.0\n",
      "1.0\n",
      "7.0\n",
      "4.0\n"
     ]
    }
   ],
   "source": [
    "print(len(vDataWithNan))\n",
    "print(np.nansum(vDataWithNan))\n",
    "print(np.nanmin(vDataWithNan))\n",
    "print(np.nanmax(vDataWithNan))\n",
    "print(np.nanmean(vDataWithNan))"
   ]
  },
  {
   "cell_type": "code",
   "execution_count": 104,
   "id": "dd416ac3-5c44-4cc1-a312-6d35c591f825",
   "metadata": {},
   "outputs": [
    {
     "data": {
      "text/plain": [
       "3369"
      ]
     },
     "execution_count": 104,
     "metadata": {},
     "output_type": "execute_result"
    }
   ],
   "source": [
    "np.sum(m2)"
   ]
  },
  {
   "cell_type": "code",
   "execution_count": 107,
   "id": "6b5ba803-14bd-4160-9dd9-83684c999391",
   "metadata": {},
   "outputs": [
    {
     "data": {
      "text/plain": [
       "array([[  1,   4,   8,  15,  23],\n",
       "       [  4,  16,  32,  60,  92],\n",
       "       [  8,  32,  64, 120, 184],\n",
       "       [ 15,  60, 888, 225, 345],\n",
       "       [ 23,  92, 184, 345, 529]])"
      ]
     },
     "execution_count": 107,
     "metadata": {},
     "output_type": "execute_result"
    }
   ],
   "source": [
    "m2"
   ]
  },
  {
   "cell_type": "code",
   "execution_count": 105,
   "id": "3fc1a5b1-3919-4e31-be5f-0d1a93b356c2",
   "metadata": {},
   "outputs": [
    {
     "data": {
      "text/plain": [
       "array([  51,  204, 1176,  765, 1173])"
      ]
     },
     "execution_count": 105,
     "metadata": {},
     "output_type": "execute_result"
    }
   ],
   "source": [
    "# sum of each column\n",
    "np.sum(m2, axis=0)"
   ]
  },
  {
   "cell_type": "code",
   "execution_count": 106,
   "id": "94e7ccac-8bcb-49e8-81b0-8ef6c4825c49",
   "metadata": {},
   "outputs": [
    {
     "data": {
      "text/plain": [
       "array([  51,  204,  408, 1533, 1173])"
      ]
     },
     "execution_count": 106,
     "metadata": {},
     "output_type": "execute_result"
    }
   ],
   "source": [
    "# sum of each row\n",
    "np.sum(m2, axis=1)"
   ]
  },
  {
   "cell_type": "code",
   "execution_count": 110,
   "id": "87b9c932-1dc5-4323-b97a-7a46f365b216",
   "metadata": {},
   "outputs": [
    {
     "data": {
      "text/plain": [
       "1176"
      ]
     },
     "execution_count": 110,
     "metadata": {},
     "output_type": "execute_result"
    }
   ],
   "source": [
    "# check\n",
    "np.sum(m2[:, 2])"
   ]
  },
  {
   "cell_type": "code",
   "execution_count": 113,
   "id": "84ae2306-c2d2-4664-954e-4aa5a0ba96e0",
   "metadata": {},
   "outputs": [
    {
     "data": {
      "text/plain": [
       "array([16.17924162, 10.23172017, 17.74489734, ...,  5.94806093,\n",
       "        6.55210851,  9.25704333])"
      ]
     },
     "execution_count": 113,
     "metadata": {},
     "output_type": "execute_result"
    }
   ],
   "source": [
    "dataMarks = np.random.normal(12, 5, 1000000)\n",
    "dataMarks"
   ]
  },
  {
   "cell_type": "code",
   "execution_count": 115,
   "id": "96bfc50d-ea3c-4044-a4c2-20685823df18",
   "metadata": {},
   "outputs": [
    {
     "data": {
      "text/plain": [
       "20.238989557074298"
      ]
     },
     "execution_count": 115,
     "metadata": {},
     "output_type": "execute_result"
    }
   ],
   "source": [
    "np.percentile(dataMarks, 95)"
   ]
  },
  {
   "cell_type": "code",
   "execution_count": 116,
   "id": "0981c0d6-dad8-4c13-992b-01a918b1fd1c",
   "metadata": {},
   "outputs": [
    {
     "data": {
      "text/plain": [
       "3.769519108009828"
      ]
     },
     "execution_count": 116,
     "metadata": {},
     "output_type": "execute_result"
    }
   ],
   "source": [
    "np.percentile(dataMarks, 5)"
   ]
  },
  {
   "cell_type": "code",
   "execution_count": 117,
   "id": "01e4d4e2-b72e-4137-bf6e-deb932f84bd3",
   "metadata": {},
   "outputs": [
    {
     "data": {
      "text/plain": [
       "20.238989557074298"
      ]
     },
     "execution_count": 117,
     "metadata": {},
     "output_type": "execute_result"
    }
   ],
   "source": [
    "np.quantile(dataMarks, .95)"
   ]
  },
  {
   "cell_type": "code",
   "execution_count": 119,
   "id": "af295d6f-f72e-49b5-8731-e882ea5a4e46",
   "metadata": {},
   "outputs": [
    {
     "data": {
      "text/plain": [
       "[8.627632007141916, 12.009982118539028, 15.381386578250668]"
      ]
     },
     "execution_count": 119,
     "metadata": {},
     "output_type": "execute_result"
    }
   ],
   "source": [
    "[np.quantile(dataMarks, .25*i) for i in range(1,4)]"
   ]
  },
  {
   "cell_type": "markdown",
   "id": "4875a891-2f82-4320-8efc-68f94de6548f",
   "metadata": {},
   "source": [
    "## some loops"
   ]
  },
  {
   "cell_type": "code",
   "execution_count": 121,
   "id": "2c2896da-a0d0-41f0-9455-4c2bfab06e69",
   "metadata": {},
   "outputs": [
    {
     "name": "stdout",
     "output_type": "stream",
     "text": [
      "1\n",
      "4\n",
      "8\n",
      "15\n",
      "23\n"
     ]
    }
   ],
   "source": [
    "# for  iterate upon the values\n",
    "for d in data2:\n",
    "    print(d)"
   ]
  },
  {
   "cell_type": "code",
   "execution_count": 122,
   "id": "052524b3-1a1f-48f7-a8d6-4f55c8c7c04f",
   "metadata": {},
   "outputs": [
    {
     "name": "stdout",
     "output_type": "stream",
     "text": [
      "T\n",
      "o\n",
      "u\n",
      "l\n",
      "o\n",
      "u\n",
      "s\n",
      "e\n"
     ]
    }
   ],
   "source": [
    "for letter in 'Toulouse':\n",
    "    print(letter)"
   ]
  },
  {
   "cell_type": "code",
   "execution_count": 123,
   "id": "4718ef6e-aeaf-4db9-9024-049359b2be19",
   "metadata": {},
   "outputs": [
    {
     "name": "stdout",
     "output_type": "stream",
     "text": [
      "0\n",
      "1\n",
      "2\n",
      "3\n",
      "4\n"
     ]
    }
   ],
   "source": [
    "for i in range(5):  # from 0 included to 5 excluded\n",
    "    print(i)"
   ]
  },
  {
   "cell_type": "code",
   "execution_count": 124,
   "id": "920e6f14-7d52-4a3e-a3ae-d1a8c85ac03b",
   "metadata": {},
   "outputs": [
    {
     "name": "stdout",
     "output_type": "stream",
     "text": [
      "1\n",
      "2\n",
      "3\n",
      "4\n"
     ]
    }
   ],
   "source": [
    "for i in range(1, 5):  # from 1 included to 5 excluded\n",
    "    print(i)"
   ]
  },
  {
   "cell_type": "code",
   "execution_count": 126,
   "id": "3a8fb2a9-db54-4450-b3c8-7e9e378dfe96",
   "metadata": {},
   "outputs": [
    {
     "data": {
      "text/plain": [
       "range(0, 10)"
      ]
     },
     "execution_count": 126,
     "metadata": {},
     "output_type": "execute_result"
    }
   ],
   "source": [
    "# range objetcs are lazy\n",
    "range(10)"
   ]
  },
  {
   "cell_type": "code",
   "execution_count": 128,
   "id": "aeb00b36-3584-47e2-811d-7dd331608da9",
   "metadata": {},
   "outputs": [
    {
     "data": {
      "text/plain": [
       "[0, 1, 2, 3, 4, 5, 6, 7, 8, 9]"
      ]
     },
     "execution_count": 128,
     "metadata": {},
     "output_type": "execute_result"
    }
   ],
   "source": [
    "# convert range object into a list\n",
    "list(range(10))"
   ]
  },
  {
   "cell_type": "code",
   "execution_count": 131,
   "id": "99140869-0d49-42d0-a457-d0791cf55c05",
   "metadata": {},
   "outputs": [
    {
     "name": "stdout",
     "output_type": "stream",
     "text": [
      "0: 1\n",
      "1: 4\n",
      "2: 8\n",
      "3: 15\n",
      "4: 23\n"
     ]
    }
   ],
   "source": [
    "for i in range(len(data2)):\n",
    "    print(i, data2[i], sep=': ')"
   ]
  },
  {
   "cell_type": "code",
   "execution_count": 132,
   "id": "634beb39-3497-4937-b84a-75f515c5dabb",
   "metadata": {},
   "outputs": [
    {
     "name": "stdout",
     "output_type": "stream",
     "text": [
      "0: 1\n",
      "1: 4\n",
      "2: 8\n",
      "3: 15\n",
      "4: 23\n"
     ]
    }
   ],
   "source": [
    "for i, v in enumerate(data2):\n",
    "    print(i, v, sep=': ')"
   ]
  },
  {
   "cell_type": "code",
   "execution_count": 133,
   "id": "a062d020-104a-4636-af34-1c495d7a4b56",
   "metadata": {},
   "outputs": [
    {
     "name": "stdout",
     "output_type": "stream",
     "text": [
      "1: 1\n",
      "2: 4\n",
      "3: 8\n",
      "4: 15\n",
      "5: 23\n"
     ]
    }
   ],
   "source": [
    "for i, v in enumerate(data2, 1):\n",
    "    print(i, v, sep=': ')"
   ]
  },
  {
   "cell_type": "code",
   "execution_count": 137,
   "id": "1057aaff-1a50-433d-838f-3298485c0501",
   "metadata": {},
   "outputs": [
    {
     "data": {
      "text/plain": [
       "[2, 5, 9, 16, 24]"
      ]
     },
     "execution_count": 137,
     "metadata": {},
     "output_type": "execute_result"
    }
   ],
   "source": [
    "# oldschool code\n",
    "newData = []\n",
    "for d in data2:\n",
    "    newData.append(d+1)\n",
    "newData"
   ]
  },
  {
   "cell_type": "code",
   "execution_count": 140,
   "id": "5296069c-ed02-44f0-a650-99cad29e8474",
   "metadata": {},
   "outputs": [
    {
     "data": {
      "text/plain": [
       "[2, 5, 9, 16, 24]"
      ]
     },
     "execution_count": 140,
     "metadata": {},
     "output_type": "execute_result"
    }
   ],
   "source": [
    "# comprehension list: list with for expression\n",
    "[ d + 1 for d in data2 ]"
   ]
  },
  {
   "cell_type": "code",
   "execution_count": 142,
   "id": "243cae26-1571-40d9-a7b7-83ebabae8c79",
   "metadata": {},
   "outputs": [],
   "source": [
    "# SyntaxError: invalid syntax\n",
    "# d + 1 for d in data2"
   ]
  },
  {
   "cell_type": "code",
   "execution_count": 143,
   "id": "dab3caf7-3488-4a33-a85a-081ca3b8dd5d",
   "metadata": {},
   "outputs": [
    {
     "data": {
      "text/plain": [
       "56"
      ]
     },
     "execution_count": 143,
     "metadata": {},
     "output_type": "execute_result"
    }
   ],
   "source": [
    "sum(d + 1 for d in data2)"
   ]
  },
  {
   "cell_type": "code",
   "execution_count": 145,
   "id": "5df6337c-3974-484b-8797-2f7537ba58e5",
   "metadata": {},
   "outputs": [
    {
     "data": {
      "text/plain": [
       "1056"
      ]
     },
     "execution_count": 145,
     "metadata": {},
     "output_type": "execute_result"
    }
   ],
   "source": [
    "# SyntaxError: Generator expression must be parenthesized\n",
    "# sum(d + 1 for d in data2, 1000)\n",
    "sum((d + 1 for d in data2), 1000)"
   ]
  },
  {
   "cell_type": "code",
   "execution_count": 148,
   "id": "c4fb2eb5-1bcd-418b-901f-fda8ccde580f",
   "metadata": {},
   "outputs": [
    {
     "data": {
      "text/plain": [
       "61"
      ]
     },
     "execution_count": 148,
     "metadata": {},
     "output_type": "execute_result"
    }
   ],
   "source": [
    "sum(i+v for i,v in enumerate(data2))"
   ]
  },
  {
   "cell_type": "code",
   "execution_count": 167,
   "id": "9d4d9a6a-7737-409a-a54b-c7150b1ba1a5",
   "metadata": {},
   "outputs": [
    {
     "data": {
      "text/plain": [
       "<generator object <genexpr> at 0x0000026E38006970>"
      ]
     },
     "execution_count": 167,
     "metadata": {},
     "output_type": "execute_result"
    }
   ],
   "source": [
    "g = (d + 1 for d in data2)\n",
    "g"
   ]
  },
  {
   "cell_type": "code",
   "execution_count": 168,
   "id": "7396c0dc-5219-43df-9abc-ec88badbce4f",
   "metadata": {},
   "outputs": [
    {
     "data": {
      "text/plain": [
       "2"
      ]
     },
     "execution_count": 168,
     "metadata": {},
     "output_type": "execute_result"
    }
   ],
   "source": [
    "# extraction d'une donnée : step by step\n",
    "next(g)"
   ]
  },
  {
   "cell_type": "code",
   "execution_count": 169,
   "id": "dc3898f8-4d3a-4c5f-b1d8-dc7a0dfe96ca",
   "metadata": {},
   "outputs": [
    {
     "data": {
      "text/plain": [
       "[5, 9, 16, 24]"
      ]
     },
     "execution_count": 169,
     "metadata": {},
     "output_type": "execute_result"
    }
   ],
   "source": [
    "list(g)"
   ]
  },
  {
   "cell_type": "code",
   "execution_count": 170,
   "id": "889e3171-be39-444d-8d02-27d75e740829",
   "metadata": {},
   "outputs": [
    {
     "name": "stdout",
     "output_type": "stream",
     "text": [
      "[ 1  4  8 15 23]\n",
      "[ 4 16 32 60 92]\n",
      "[  8  32  64 120 184]\n",
      "[ 15  60 888 225 345]\n",
      "[ 23  92 184 345 529]\n"
     ]
    }
   ],
   "source": [
    "for row in m2:\n",
    "    print(row)"
   ]
  },
  {
   "cell_type": "markdown",
   "id": "69df98ea-8947-40ca-a20d-f7ee5f5efb40",
   "metadata": {},
   "source": [
    "## containers"
   ]
  },
  {
   "cell_type": "code",
   "execution_count": 174,
   "id": "cf3d32f8-0dad-4ab4-bf3c-83cc385fe45b",
   "metadata": {},
   "outputs": [],
   "source": [
    "villes = [ \"Toulouse\", \"Pau\", \"Bayonne\" ]  # list\n",
    "ville = (\"Toulouse\", 370000, 31000) # tuple (not modifiable)\n",
    "ville_d = {\"nom\": \"Toulouse\", \"pop\": 370000, \"cp\": 31000}  # dict"
   ]
  },
  {
   "cell_type": "code",
   "execution_count": 175,
   "id": "0a85f72a-9bba-435c-abd6-edc3ff603711",
   "metadata": {},
   "outputs": [
    {
     "data": {
      "text/plain": [
       "'Toulouse'"
      ]
     },
     "execution_count": 175,
     "metadata": {},
     "output_type": "execute_result"
    }
   ],
   "source": [
    "ville[0]"
   ]
  },
  {
   "cell_type": "code",
   "execution_count": 181,
   "id": "33b8d8ae-1040-49f5-8e9c-6f39c7dc2fab",
   "metadata": {},
   "outputs": [
    {
     "name": "stdout",
     "output_type": "stream",
     "text": [
      "Toulouse 370000 31000\n"
     ]
    }
   ],
   "source": [
    "v, p, c = ville  # unpack\n",
    "print(v,p,c)"
   ]
  },
  {
   "cell_type": "code",
   "execution_count": 182,
   "id": "6c80d45c-8fa0-4356-a93e-1ee72d5de3a9",
   "metadata": {},
   "outputs": [
    {
     "data": {
      "text/plain": [
       "'Toulouse'"
      ]
     },
     "execution_count": 182,
     "metadata": {},
     "output_type": "execute_result"
    }
   ],
   "source": [
    "ville_d[\"nom\"]"
   ]
  },
  {
   "cell_type": "code",
   "execution_count": 183,
   "id": "694460e9-348d-4109-99e1-24c4f67c1fcf",
   "metadata": {},
   "outputs": [
    {
     "data": {
      "text/plain": [
       "{'nom': 'Toulouse', 'pop': 371000, 'cp': 31000}"
      ]
     },
     "execution_count": 183,
     "metadata": {},
     "output_type": "execute_result"
    }
   ],
   "source": [
    "ville_d[\"pop\"] += 1000\n",
    "ville_d"
   ]
  },
  {
   "cell_type": "code",
   "execution_count": 81,
   "id": "2b4cc544-6cf9-4713-a7ba-e1af620a8b36",
   "metadata": {},
   "outputs": [
    {
     "name": "stdout",
     "output_type": "stream",
     "text": [
      "nom -> Toulouse\n",
      "pop -> 371000\n",
      "cp -> 31000\n"
     ]
    }
   ],
   "source": [
    "for k,v in ville_d.items():\n",
    "    print(k, v, sep= ' -> ')"
   ]
  },
  {
   "cell_type": "markdown",
   "id": "7ec6865d-66dd-4549-befe-fb124f2f755d",
   "metadata": {},
   "source": [
    "## Text Data"
   ]
  },
  {
   "cell_type": "code",
   "execution_count": 82,
   "id": "1bcbcef8-228e-4715-bc5a-04ee6e8f262e",
   "metadata": {},
   "outputs": [],
   "source": [
    "ville = \"Toulouse\""
   ]
  },
  {
   "cell_type": "code",
   "execution_count": 83,
   "id": "e0eb8364-f98e-4972-ab1f-d4c2643991ea",
   "metadata": {},
   "outputs": [
    {
     "data": {
      "text/plain": [
       "'esuoluoT'"
      ]
     },
     "execution_count": 83,
     "metadata": {},
     "output_type": "execute_result"
    }
   ],
   "source": [
    "ville[::-1]"
   ]
  },
  {
   "cell_type": "code",
   "execution_count": 85,
   "id": "6c95be7a-2790-4c6e-9e06-b067ff3a3837",
   "metadata": {},
   "outputs": [
    {
     "data": {
      "text/plain": [
       "('Toulouse', 'To', 'ulouse', 'ulo')"
      ]
     },
     "execution_count": 85,
     "metadata": {},
     "output_type": "execute_result"
    }
   ],
   "source": [
    "ville[:], ville[:2], ville[2:], ville[2:5]"
   ]
  },
  {
   "cell_type": "code",
   "execution_count": 87,
   "id": "d383f66f-1bfc-4737-a1b1-86e66dc2b15b",
   "metadata": {},
   "outputs": [
    {
     "data": {
      "text/plain": [
       "('se', 'ulou')"
      ]
     },
     "execution_count": 87,
     "metadata": {},
     "output_type": "execute_result"
    }
   ],
   "source": [
    "ville[-2:], ville[2:-2]"
   ]
  },
  {
   "cell_type": "code",
   "execution_count": 88,
   "id": "f243ebe8-5bda-4e3a-8f22-f3a36fd41e95",
   "metadata": {},
   "outputs": [
    {
     "data": {
      "text/plain": [
       "('', '')"
      ]
     },
     "execution_count": 88,
     "metadata": {},
     "output_type": "execute_result"
    }
   ],
   "source": [
    "ville[5:2], ville[-2:2]"
   ]
  },
  {
   "cell_type": "code",
   "execution_count": 89,
   "id": "0ba84998-bcf5-4f76-8bf2-808efafca171",
   "metadata": {},
   "outputs": [
    {
     "data": {
      "text/plain": [
       "('uol', 'suol', 'Tuos', 'olue')"
      ]
     },
     "execution_count": 89,
     "metadata": {},
     "output_type": "execute_result"
    }
   ],
   "source": [
    "ville[5:2:-1], ville[-2:2:-1], ville[::2], ville[1::2]"
   ]
  },
  {
   "cell_type": "code",
   "execution_count": 92,
   "id": "748e68ea-057c-4c22-845b-d829a4943c1f",
   "metadata": {},
   "outputs": [
    {
     "data": {
      "text/plain": [
       "([0, 2, 4, 6, 8], [])"
      ]
     },
     "execution_count": 92,
     "metadata": {},
     "output_type": "execute_result"
    }
   ],
   "source": [
    "list(range(0,10,2)), list(range(0,10,-1))"
   ]
  },
  {
   "cell_type": "code",
   "execution_count": 94,
   "id": "94db7792-26ed-4a8e-91a4-662e29be0410",
   "metadata": {},
   "outputs": [
    {
     "data": {
      "text/plain": [
       "'Toulouse, Pau, Bayonne'"
      ]
     },
     "execution_count": 94,
     "metadata": {},
     "output_type": "execute_result"
    }
   ],
   "source": [
    "\", \".join(villes)"
   ]
  },
  {
   "cell_type": "code",
   "execution_count": 95,
   "id": "351964a4-642e-4671-a807-3717be0d32bb",
   "metadata": {},
   "outputs": [],
   "source": [
    "temperatures = [25, 34, 41, 18]"
   ]
  },
  {
   "cell_type": "code",
   "execution_count": 98,
   "id": "4abe6dd3-182c-43ad-b2fe-400538087c8a",
   "metadata": {},
   "outputs": [
    {
     "data": {
      "text/plain": [
       "'25, 34, 41, 18'"
      ]
     },
     "execution_count": 98,
     "metadata": {},
     "output_type": "execute_result"
    }
   ],
   "source": [
    "\", \".join(str(t) for t in temperatures)"
   ]
  },
  {
   "cell_type": "code",
   "execution_count": 99,
   "id": "ed4f9c63-3847-482f-8d06-4be9553eb09a",
   "metadata": {},
   "outputs": [],
   "source": [
    "ville = \"Toulouse\"\n",
    "pop = 370000"
   ]
  },
  {
   "cell_type": "code",
   "execution_count": 100,
   "id": "ff714ea9-4d33-4f4d-b8d8-4c56eec7676a",
   "metadata": {},
   "outputs": [
    {
     "data": {
      "text/plain": [
       "'Toulouse (pop = 370000)'"
      ]
     },
     "execution_count": 100,
     "metadata": {},
     "output_type": "execute_result"
    }
   ],
   "source": [
    "ville + \" (pop = \" + str(pop) + \")\""
   ]
  },
  {
   "cell_type": "code",
   "execution_count": 102,
   "id": "bfaf00b5-6d50-4b22-beb1-2ed12beb5b4a",
   "metadata": {},
   "outputs": [
    {
     "data": {
      "text/plain": [
       "'Toulouse (pop = 370000)'"
      ]
     },
     "execution_count": 102,
     "metadata": {},
     "output_type": "execute_result"
    }
   ],
   "source": [
    "# python 1-2 : deprecated\n",
    "\"%s (pop = %s)\" % (ville,pop)"
   ]
  },
  {
   "cell_type": "code",
   "execution_count": 103,
   "id": "3a9d8151-ceb6-46b3-b721-1c6e26229503",
   "metadata": {},
   "outputs": [
    {
     "data": {
      "text/plain": [
       "'Toulouse (pop = 370000)'"
      ]
     },
     "execution_count": 103,
     "metadata": {},
     "output_type": "execute_result"
    }
   ],
   "source": [
    "# python\n",
    "\"{} (pop = {})\".format(ville, pop)"
   ]
  },
  {
   "cell_type": "code",
   "execution_count": 104,
   "id": "f7491c49-4cb4-428c-abf5-814074f94b5c",
   "metadata": {},
   "outputs": [
    {
     "data": {
      "text/plain": [
       "'Toulouse (pop = 370000) ; Toulouse ville rose'"
      ]
     },
     "execution_count": 104,
     "metadata": {},
     "output_type": "execute_result"
    }
   ],
   "source": [
    "\"{0} (pop = {1}) ; {0} ville rose\".format(ville, pop)"
   ]
  },
  {
   "cell_type": "code",
   "execution_count": 108,
   "id": "f16b0283-bb18-4cbe-91f1-10bf61b56af0",
   "metadata": {},
   "outputs": [],
   "source": [
    "densite = 50.300122222222"
   ]
  },
  {
   "cell_type": "code",
   "execution_count": 110,
   "id": "efdfa7e6-73ff-441c-beb9-fd2deaa15a12",
   "metadata": {},
   "outputs": [
    {
     "data": {
      "text/plain": [
       "'Toulouse (pop = 370000 ; densité = 50.30)'"
      ]
     },
     "execution_count": 110,
     "metadata": {},
     "output_type": "execute_result"
    }
   ],
   "source": [
    "# https://docs.python.org/3/library/string.html#formatstrings\n",
    "\"{0} (pop = {1} ; densité = {2:.2f})\".format(ville, pop, densite)"
   ]
  },
  {
   "cell_type": "code",
   "execution_count": 111,
   "id": "67535a79-cc34-4e40-9863-386fcae6eed9",
   "metadata": {},
   "outputs": [
    {
     "data": {
      "text/plain": [
       "'Toulouse (pop = 370000 ; densité = 50.30)'"
      ]
     },
     "execution_count": 111,
     "metadata": {},
     "output_type": "execute_result"
    }
   ],
   "source": [
    "# python 3.6\n",
    "f\"{ville} (pop = {pop} ; densité = {densite:.2f})\""
   ]
  },
  {
   "cell_type": "code",
   "execution_count": 112,
   "id": "b49fa31a-1449-4b4b-a537-465604d725ec",
   "metadata": {},
   "outputs": [
    {
     "data": {
      "text/plain": [
       "\"aujourd'hui\""
      ]
     },
     "execution_count": 112,
     "metadata": {},
     "output_type": "execute_result"
    }
   ],
   "source": [
    "\"aujourd'hui\""
   ]
  },
  {
   "cell_type": "code",
   "execution_count": 113,
   "id": "d8779d25-5c1e-46d5-854c-dda21a778639",
   "metadata": {},
   "outputs": [
    {
     "data": {
      "text/plain": [
       "'aujourd\\'hui, je dis \"il fait beau\"'"
      ]
     },
     "execution_count": 113,
     "metadata": {},
     "output_type": "execute_result"
    }
   ],
   "source": [
    "\"aujourd'hui, je dis \\\"il fait beau\\\"\""
   ]
  },
  {
   "cell_type": "code",
   "execution_count": 117,
   "id": "0981f421-3b93-409a-ab6e-8f80b6c0569b",
   "metadata": {},
   "outputs": [
    {
     "data": {
      "text/plain": [
       "'perroquet 🦜 in 🇫🇷'"
      ]
     },
     "execution_count": 117,
     "metadata": {},
     "output_type": "execute_result"
    }
   ],
   "source": [
    "texte = \"perroquet 🦜 in 🇫🇷\"\n",
    "texte"
   ]
  },
  {
   "cell_type": "code",
   "execution_count": 118,
   "id": "77361d7b-9ca2-427b-9687-e2b657b6f088",
   "metadata": {},
   "outputs": [
    {
     "data": {
      "text/plain": [
       "b'perroquet \\xf0\\x9f\\xa6\\x9c in \\xf0\\x9f\\x87\\xab\\xf0\\x9f\\x87\\xb7'"
      ]
     },
     "execution_count": 118,
     "metadata": {},
     "output_type": "execute_result"
    }
   ],
   "source": [
    "texte.encode('UTF-8')"
   ]
  },
  {
   "cell_type": "code",
   "execution_count": 119,
   "id": "bc8d59ab-eb44-44c4-9499-c9d3a5e4bdf2",
   "metadata": {},
   "outputs": [],
   "source": [
    "texte = \"baguette à 1,20€\""
   ]
  },
  {
   "cell_type": "code",
   "execution_count": 121,
   "id": "6c3caa4d-ed05-4785-85d0-073bca88b221",
   "metadata": {},
   "outputs": [],
   "source": [
    "# UnicodeEncodeError: 'latin-1' codec can't encode character '\\u20ac'\n",
    "# texte.encode('ISO8859-1')"
   ]
  },
  {
   "cell_type": "code",
   "execution_count": 122,
   "id": "bee77e05-8fc0-444a-b43a-a157b200c27b",
   "metadata": {},
   "outputs": [
    {
     "data": {
      "text/plain": [
       "b'baguette \\xe0 1,20\\xa4'"
      ]
     },
     "execution_count": 122,
     "metadata": {},
     "output_type": "execute_result"
    }
   ],
   "source": [
    "texte.encode('ISO8859-15')"
   ]
  },
  {
   "cell_type": "code",
   "execution_count": 123,
   "id": "8f756a75-1f33-43ff-9a0f-f298cc7ce83e",
   "metadata": {},
   "outputs": [
    {
     "data": {
      "text/plain": [
       "b'baguette \\xe0 1,20\\x80'"
      ]
     },
     "execution_count": 123,
     "metadata": {},
     "output_type": "execute_result"
    }
   ],
   "source": [
    "texte.encode('cp1252')"
   ]
  },
  {
   "cell_type": "code",
   "execution_count": 126,
   "id": "5a000953-1b2c-4ac5-99d5-6fdc40d89909",
   "metadata": {},
   "outputs": [
    {
     "data": {
      "text/plain": [
       "b'baguette \\xc3\\xa0 1,20\\xe2\\x82\\xac'"
      ]
     },
     "execution_count": 126,
     "metadata": {},
     "output_type": "execute_result"
    }
   ],
   "source": [
    "labelUTF8 = texte.encode('UTF-8')\n",
    "labelUTF8"
   ]
  },
  {
   "cell_type": "code",
   "execution_count": 127,
   "id": "cfcc8ea8-4361-491f-82d7-163d3bb5d5df",
   "metadata": {},
   "outputs": [
    {
     "data": {
      "text/plain": [
       "'baguette à 1,20€'"
      ]
     },
     "execution_count": 127,
     "metadata": {},
     "output_type": "execute_result"
    }
   ],
   "source": [
    "labelUTF8.decode()"
   ]
  }
 ],
 "metadata": {
  "kernelspec": {
   "display_name": "Python 3 (ipykernel)",
   "language": "python",
   "name": "python3"
  },
  "language_info": {
   "codemirror_mode": {
    "name": "ipython",
    "version": 3
   },
   "file_extension": ".py",
   "mimetype": "text/x-python",
   "name": "python",
   "nbconvert_exporter": "python",
   "pygments_lexer": "ipython3",
   "version": "3.9.12"
  }
 },
 "nbformat": 4,
 "nbformat_minor": 5
}
