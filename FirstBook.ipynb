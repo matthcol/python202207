{
 "cells": [
  {
   "cell_type": "markdown",
   "id": "7979e74c",
   "metadata": {},
   "source": [
    "# Premiers pas en Python\n",
    "Formation pour apprendre python, la POO en python et quelques libraiires de Data Science"
   ]
  },
  {
   "cell_type": "code",
   "execution_count": 43,
   "id": "87ccb8db-34f2-4212-abe7-87836ac18d14",
   "metadata": {},
   "outputs": [],
   "source": [
    "import numpy as np"
   ]
  },
  {
   "cell_type": "code",
   "execution_count": 4,
   "id": "4c54ad7b",
   "metadata": {},
   "outputs": [
    {
     "name": "stdout",
     "output_type": "stream",
     "text": [
      "Hello Antoine Matthias\n",
      "Hello, Antoine, Matthias\n",
      "Hello Antoine Matthias\n"
     ]
    }
   ],
   "source": [
    "print(\"Hello\", \"Antoine\", \"Matthias\")\n",
    "print(\"Hello\", \"Antoine\", \"Matthias\", sep=\", \")\n",
    "print(\"Hello\", \"Antoine\", end=\" \")\n",
    "print(\"Matthias\")"
   ]
  },
  {
   "cell_type": "code",
   "execution_count": 22,
   "id": "2f875f80",
   "metadata": {},
   "outputs": [],
   "source": [
    "data = [1, 4, 8, 15, 23 ]"
   ]
  },
  {
   "cell_type": "code",
   "execution_count": 23,
   "id": "96f72c75-09a7-4f57-b94f-b655612d06c9",
   "metadata": {},
   "outputs": [
    {
     "data": {
      "text/plain": [
       "[1, 4, 8, 15, 23, 1, 4, 8, 15, 23]"
      ]
     },
     "execution_count": 23,
     "metadata": {},
     "output_type": "execute_result"
    }
   ],
   "source": [
    "data * 2"
   ]
  },
  {
   "cell_type": "code",
   "execution_count": 24,
   "id": "90081538-6a01-4d7c-b3d8-97b6192e3188",
   "metadata": {},
   "outputs": [
    {
     "data": {
      "text/plain": [
       "'PauPau'"
      ]
     },
     "execution_count": 24,
     "metadata": {},
     "output_type": "execute_result"
    }
   ],
   "source": [
    "'Pau' * 2"
   ]
  },
  {
   "cell_type": "code",
   "execution_count": 25,
   "id": "1fe2fc52-99d4-42d6-9223-5674a1b0bfba",
   "metadata": {},
   "outputs": [
    {
     "data": {
      "text/plain": [
       "[1, 4, 8, 15, 23, 3, 5]"
      ]
     },
     "execution_count": 25,
     "metadata": {},
     "output_type": "execute_result"
    }
   ],
   "source": [
    "data + [3, 5]"
   ]
  },
  {
   "cell_type": "code",
   "execution_count": 26,
   "id": "a74526d7-7ee6-44e4-ae4c-2def1e706fb0",
   "metadata": {},
   "outputs": [
    {
     "data": {
      "text/plain": [
       "'PauToulouse'"
      ]
     },
     "execution_count": 26,
     "metadata": {},
     "output_type": "execute_result"
    }
   ],
   "source": [
    "'Pau' + 'Toulouse'"
   ]
  },
  {
   "cell_type": "code",
   "execution_count": 27,
   "id": "9a83a503-c1f0-4ea4-99e3-d307c05f5067",
   "metadata": {},
   "outputs": [
    {
     "data": {
      "text/plain": [
       "True"
      ]
     },
     "execution_count": 27,
     "metadata": {},
     "output_type": "execute_result"
    }
   ],
   "source": [
    "4 in data"
   ]
  },
  {
   "cell_type": "code",
   "execution_count": 28,
   "id": "843a936f-1003-41c6-b16a-ccef99d4d41b",
   "metadata": {},
   "outputs": [
    {
     "data": {
      "text/plain": [
       "False"
      ]
     },
     "execution_count": 28,
     "metadata": {},
     "output_type": "execute_result"
    }
   ],
   "source": [
    "4 not in data"
   ]
  },
  {
   "cell_type": "code",
   "execution_count": 33,
   "id": "4eb96c82-fb92-40cc-8139-9b80b9c6c9cc",
   "metadata": {},
   "outputs": [],
   "source": [
    "data2 = [1, 4, 8, 15, 23]\n",
    "data3 = data # partage de reference"
   ]
  },
  {
   "cell_type": "code",
   "execution_count": 32,
   "id": "a1623c0a-fbc4-4864-80a2-172ff036ee27",
   "metadata": {},
   "outputs": [
    {
     "name": "stdout",
     "output_type": "stream",
     "text": [
      "True\n",
      "True\n",
      "False\n",
      "True\n"
     ]
    }
   ],
   "source": [
    "print(data2 == data)\n",
    "print(data3 == data)\n",
    "print(data2 is data)\n",
    "print(data3 is data)"
   ]
  },
  {
   "cell_type": "code",
   "execution_count": 35,
   "id": "35fb1b19-26b1-4470-a623-5484b199ba0c",
   "metadata": {},
   "outputs": [
    {
     "name": "stdout",
     "output_type": "stream",
     "text": [
      "[1, 4, 8, 15, 23, 55]\n",
      "[1, 4, 8, 15, 23, 55]\n"
     ]
    }
   ],
   "source": [
    "data.append(55)\n",
    "print(data)\n",
    "print(data3)"
   ]
  },
  {
   "cell_type": "code",
   "execution_count": 36,
   "id": "cc95758b-76ca-4627-bce6-3407c545e3de",
   "metadata": {},
   "outputs": [
    {
     "name": "stdout",
     "output_type": "stream",
     "text": [
      "[0, 1]\n",
      "[1, 4, 8, 15, 23, 55]\n"
     ]
    }
   ],
   "source": [
    "data = [0, 1]\n",
    "print(data)\n",
    "print(data3)\n"
   ]
  },
  {
   "cell_type": "code",
   "execution_count": 39,
   "id": "bd309a0d-4213-4a8a-9111-8b9fecb50e36",
   "metadata": {},
   "outputs": [
    {
     "data": {
      "text/plain": [
       "2"
      ]
     },
     "execution_count": 39,
     "metadata": {},
     "output_type": "execute_result"
    }
   ],
   "source": [
    "14 % 4 # modulo"
   ]
  },
  {
   "cell_type": "code",
   "execution_count": 40,
   "id": "4b9b8741-4397-498a-b6be-8abc73069f7a",
   "metadata": {},
   "outputs": [
    {
     "data": {
      "text/plain": [
       "3.5"
      ]
     },
     "execution_count": 40,
     "metadata": {},
     "output_type": "execute_result"
    }
   ],
   "source": [
    "14 / 4"
   ]
  },
  {
   "cell_type": "code",
   "execution_count": 41,
   "id": "e61c8cd9-552c-4be2-9bfe-8a879932d598",
   "metadata": {},
   "outputs": [
    {
     "data": {
      "text/plain": [
       "3"
      ]
     },
     "execution_count": 41,
     "metadata": {},
     "output_type": "execute_result"
    }
   ],
   "source": [
    "14 // 4"
   ]
  },
  {
   "cell_type": "code",
   "execution_count": 42,
   "id": "f8204271-6b0a-4b48-88d6-00f2f9f1d4b1",
   "metadata": {},
   "outputs": [
    {
     "data": {
      "text/plain": [
       "1073741824"
      ]
     },
     "execution_count": 42,
     "metadata": {},
     "output_type": "execute_result"
    }
   ],
   "source": [
    "2**30"
   ]
  },
  {
   "cell_type": "markdown",
   "id": "dd004489-a152-42b9-a0c9-e518701b93dc",
   "metadata": {},
   "source": [
    "## Exemple Numpy"
   ]
  },
  {
   "cell_type": "code",
   "execution_count": 46,
   "id": "51f9bf7d-ea75-46f8-908d-f9215b7d2537",
   "metadata": {},
   "outputs": [
    {
     "data": {
      "text/plain": [
       "array([ 1,  4,  8, 15, 23])"
      ]
     },
     "execution_count": 46,
     "metadata": {},
     "output_type": "execute_result"
    }
   ],
   "source": [
    "v = np.array(data2)\n",
    "v"
   ]
  },
  {
   "cell_type": "code",
   "execution_count": 47,
   "id": "d4154c0d-a45f-4e57-a121-14b762e6a8a5",
   "metadata": {},
   "outputs": [
    {
     "data": {
      "text/plain": [
       "array([ 2,  8, 16, 30, 46])"
      ]
     },
     "execution_count": 47,
     "metadata": {},
     "output_type": "execute_result"
    }
   ],
   "source": [
    "v * 2"
   ]
  },
  {
   "cell_type": "code",
   "execution_count": 48,
   "id": "fa0bab27-5d77-4571-9635-2b1fe1945b27",
   "metadata": {},
   "outputs": [
    {
     "data": {
      "text/plain": [
       "array([  1,  16,  64, 225, 529])"
      ]
     },
     "execution_count": 48,
     "metadata": {},
     "output_type": "execute_result"
    }
   ],
   "source": [
    "v * v"
   ]
  },
  {
   "cell_type": "code",
   "execution_count": 51,
   "id": "e8a00310-5b9d-4c86-bae9-cee996d47155",
   "metadata": {},
   "outputs": [
    {
     "data": {
      "text/plain": [
       "array([[ 1],\n",
       "       [ 4],\n",
       "       [ 8],\n",
       "       [15],\n",
       "       [23]])"
      ]
     },
     "execution_count": 51,
     "metadata": {},
     "output_type": "execute_result"
    }
   ],
   "source": [
    "m = v.reshape((5,1))\n",
    "m"
   ]
  },
  {
   "cell_type": "code",
   "execution_count": 53,
   "id": "0065ca7a-3614-49a0-ad68-4f25038b38fe",
   "metadata": {},
   "outputs": [
    {
     "data": {
      "text/plain": [
       "array([835])"
      ]
     },
     "execution_count": 53,
     "metadata": {},
     "output_type": "execute_result"
    }
   ],
   "source": [
    "v @ m"
   ]
  },
  {
   "cell_type": "code",
   "execution_count": 59,
   "id": "8a91e638-0e11-429d-99b7-27bc6e4404e7",
   "metadata": {},
   "outputs": [
    {
     "data": {
      "text/plain": [
       "array([[  1,   4,   8,  15,  23],\n",
       "       [  4,  16,  32,  60,  92],\n",
       "       [  8,  32,  64, 120, 184],\n",
       "       [ 15,  60, 120, 225, 345],\n",
       "       [ 23,  92, 184, 345, 529]])"
      ]
     },
     "execution_count": 59,
     "metadata": {},
     "output_type": "execute_result"
    }
   ],
   "source": [
    "m2 = m @ m.T\n",
    "m2"
   ]
  },
  {
   "cell_type": "code",
   "execution_count": 55,
   "id": "bd56ac69-5b54-4064-8f7d-29b4d0d9f593",
   "metadata": {},
   "outputs": [
    {
     "data": {
      "text/plain": [
       "(5, 1)"
      ]
     },
     "execution_count": 55,
     "metadata": {},
     "output_type": "execute_result"
    }
   ],
   "source": [
    "m.shape"
   ]
  },
  {
   "cell_type": "code",
   "execution_count": 56,
   "id": "9b55ab71-a149-4b40-9617-0412a6ca46e6",
   "metadata": {},
   "outputs": [
    {
     "data": {
      "text/plain": [
       "(5,)"
      ]
     },
     "execution_count": 56,
     "metadata": {},
     "output_type": "execute_result"
    }
   ],
   "source": [
    "v.shape"
   ]
  },
  {
   "cell_type": "code",
   "execution_count": 60,
   "id": "db78d848-25e3-4425-8228-d879fd882969",
   "metadata": {},
   "outputs": [
    {
     "data": {
      "text/plain": [
       "(5, 5)"
      ]
     },
     "execution_count": 60,
     "metadata": {},
     "output_type": "execute_result"
    }
   ],
   "source": [
    "m2.shape"
   ]
  },
  {
   "cell_type": "code",
   "execution_count": 61,
   "id": "8738c974-6dd6-4312-b517-aa7641e54922",
   "metadata": {},
   "outputs": [
    {
     "data": {
      "text/plain": [
       "  C_CONTIGUOUS : True\n",
       "  F_CONTIGUOUS : False\n",
       "  OWNDATA : True\n",
       "  WRITEABLE : True\n",
       "  ALIGNED : True\n",
       "  WRITEBACKIFCOPY : False\n",
       "  UPDATEIFCOPY : False"
      ]
     },
     "execution_count": 61,
     "metadata": {},
     "output_type": "execute_result"
    }
   ],
   "source": [
    "m2.flags"
   ]
  },
  {
   "cell_type": "code",
   "execution_count": 70,
   "id": "13ae3fea-cb2c-43e9-b36e-f0c7a7ae9805",
   "metadata": {},
   "outputs": [
    {
     "data": {
      "text/plain": [
       "  C_CONTIGUOUS : False\n",
       "  F_CONTIGUOUS : True\n",
       "  OWNDATA : False\n",
       "  WRITEABLE : True\n",
       "  ALIGNED : True\n",
       "  WRITEBACKIFCOPY : False\n",
       "  UPDATEIFCOPY : False"
      ]
     },
     "execution_count": 70,
     "metadata": {},
     "output_type": "execute_result"
    }
   ],
   "source": [
    "# transposed matrix shares data with original matrix\n",
    "tm2 = m2.T\n",
    "tm2.flags"
   ]
  },
  {
   "cell_type": "code",
   "execution_count": 64,
   "id": "69258d7c-f04d-4acf-9a1a-804e1c6c2fd2",
   "metadata": {},
   "outputs": [
    {
     "data": {
      "text/plain": [
       "120"
      ]
     },
     "execution_count": 64,
     "metadata": {},
     "output_type": "execute_result"
    }
   ],
   "source": [
    "tm2[2,3]"
   ]
  },
  {
   "cell_type": "code",
   "execution_count": 65,
   "id": "e12d4c23-d3e2-4b09-a874-d779696ef6db",
   "metadata": {},
   "outputs": [
    {
     "ename": "AttributeError",
     "evalue": "attribute 'T' of 'numpy.ndarray' objects is not writable",
     "output_type": "error",
     "traceback": [
      "\u001b[1;31m---------------------------------------------------------------------------\u001b[0m",
      "\u001b[1;31mAttributeError\u001b[0m                            Traceback (most recent call last)",
      "Input \u001b[1;32mIn [65]\u001b[0m, in \u001b[0;36m<cell line: 1>\u001b[1;34m()\u001b[0m\n\u001b[1;32m----> 1\u001b[0m m2\u001b[38;5;241m.\u001b[39mT \u001b[38;5;241m=\u001b[39m np\u001b[38;5;241m.\u001b[39marray([\u001b[38;5;241m3\u001b[39m])\n",
      "\u001b[1;31mAttributeError\u001b[0m: attribute 'T' of 'numpy.ndarray' objects is not writable"
     ]
    }
   ],
   "source": [
    "m2.T = np.array([3])"
   ]
  },
  {
   "cell_type": "code",
   "execution_count": 66,
   "id": "6ca631d9-9939-4e2d-8ec9-bc57c824b93d",
   "metadata": {},
   "outputs": [],
   "source": [
    "m2.T[2,3] = 888"
   ]
  },
  {
   "cell_type": "code",
   "execution_count": 67,
   "id": "90228d67-767c-49d3-843f-fe18e3123aba",
   "metadata": {},
   "outputs": [
    {
     "data": {
      "text/plain": [
       "array([[  1,   4,   8,  15,  23],\n",
       "       [  4,  16,  32,  60,  92],\n",
       "       [  8,  32,  64, 888, 184],\n",
       "       [ 15,  60, 120, 225, 345],\n",
       "       [ 23,  92, 184, 345, 529]])"
      ]
     },
     "execution_count": 67,
     "metadata": {},
     "output_type": "execute_result"
    }
   ],
   "source": [
    "m2.T"
   ]
  },
  {
   "cell_type": "code",
   "execution_count": 69,
   "id": "7fa089a6-598f-41d2-a777-f3f2d883f572",
   "metadata": {},
   "outputs": [
    {
     "data": {
      "text/plain": [
       "array([[  1,   4,   8,  15,  23],\n",
       "       [  4,  16,  32,  60,  92],\n",
       "       [  8,  32,  64, 888, 184],\n",
       "       [ 15,  60, 120, 225, 345],\n",
       "       [ 23,  92, 184, 345, 529]])"
      ]
     },
     "execution_count": 69,
     "metadata": {},
     "output_type": "execute_result"
    }
   ],
   "source": [
    "tm2"
   ]
  },
  {
   "cell_type": "code",
   "execution_count": 68,
   "id": "8d96a056-6c58-4c6b-9b6c-f5649fe8f0f8",
   "metadata": {},
   "outputs": [
    {
     "data": {
      "text/plain": [
       "array([[  1,   4,   8,  15,  23],\n",
       "       [  4,  16,  32,  60,  92],\n",
       "       [  8,  32,  64, 120, 184],\n",
       "       [ 15,  60, 888, 225, 345],\n",
       "       [ 23,  92, 184, 345, 529]])"
      ]
     },
     "execution_count": 68,
     "metadata": {},
     "output_type": "execute_result"
    }
   ],
   "source": [
    "m2"
   ]
  }
 ],
 "metadata": {
  "kernelspec": {
   "display_name": "Python 3 (ipykernel)",
   "language": "python",
   "name": "python3"
  },
  "language_info": {
   "codemirror_mode": {
    "name": "ipython",
    "version": 3
   },
   "file_extension": ".py",
   "mimetype": "text/x-python",
   "name": "python",
   "nbconvert_exporter": "python",
   "pygments_lexer": "ipython3",
   "version": "3.9.12"
  }
 },
 "nbformat": 4,
 "nbformat_minor": 5
}
